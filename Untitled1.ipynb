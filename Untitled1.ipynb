{
 "cells": [
  {
   "cell_type": "code",
   "execution_count": null,
   "metadata": {},
   "outputs": [],
   "source": [
    "import pandas as pd\n",
    "import panel as pn\n",
    "import xarray as xr\n",
    "import holoviews as hv\n",
    "\n",
    "pn.extension('tabulator', template='material', sizing_mode='stretch_width')\n",
    "\n",
    "import colorcet as cc\n",
    "import hvplot.xarray  # noqa\n",
    "import hvplot.pandas # noqa"
   ]
  }
 ],
 "metadata": {},
 "nbformat": 4,
 "nbformat_minor": 4
}

{
 "cells": [
  {
   "cell_type": "code",
   "execution_count": 1,
   "metadata": {},
   "outputs": [
    {
     "name": "stdout",
     "output_type": "stream",
     "text": [
      "O:\\DoEverything\n"
     ]
    }
   ],
   "source": [
    "cd O:\\DoEverything"
   ]
  },
  {
   "cell_type": "code",
   "execution_count": 19,
   "metadata": {},
   "outputs": [],
   "source": [
    "import wget\n",
    "import requests as r\n",
    "from requests import Session\n",
    "from lxml import html"
   ]
  },
  {
   "cell_type": "code",
   "execution_count": 3,
   "metadata": {},
   "outputs": [],
   "source": [
    "auth = ('7838642', '0y6A467xy1F%175')\n",
    "url = 'https://jkosupport.jten.mil'\n",
    "ep = url + 'Learning/CourseOutline.aspx?CourseID=1133135&BoosterEdit=False'\n"
   ]
  },
  {
   "cell_type": "code",
   "execution_count": 4,
   "metadata": {},
   "outputs": [],
   "source": [
    "r = r.Session()"
   ]
  },
  {
   "cell_type": "code",
   "execution_count": null,
   "metadata": {},
   "outputs": [],
   "source": [
    "s = r.post(url, auth = auth)"
   ]
  },
  {
   "cell_type": "raw",
   "metadata": {},
   "source": []
  },
  {
   "cell_type": "code",
   "execution_count": 5,
   "metadata": {},
   "outputs": [],
   "source": [
    "p = r.get(ep, auth = auth)"
   ]
  },
  {
   "cell_type": "code",
   "execution_count": null,
   "metadata": {},
   "outputs": [],
   "source": []
  },
  {
   "cell_type": "code",
   "execution_count": null,
   "metadata": {},
   "outputs": [],
   "source": [
    "filename = wget.download(ep)"
   ]
  },
  {
   "cell_type": "code",
   "execution_count": 14,
   "metadata": {},
   "outputs": [],
   "source": [
    "strange = p.content.decode(\"utf-8\")"
   ]
  },
  {
   "cell_type": "code",
   "execution_count": 26,
   "metadata": {},
   "outputs": [
    {
     "data": {
      "text/plain": [
       "56587"
      ]
     },
     "execution_count": 26,
     "metadata": {},
     "output_type": "execute_result"
    }
   ],
   "source": [
    "f = open(\"testero.html\", \"w\")\n",
    "f.write(strange)"
   ]
  },
  {
   "cell_type": "code",
   "execution_count": 20,
   "metadata": {},
   "outputs": [],
   "source": [
    "tree = html.fromstring(p.content)"
   ]
  },
  {
   "cell_type": "raw",
   "metadata": {},
   "source": [
    "\n"
   ]
  },
  {
   "cell_type": "code",
   "execution_count": 24,
   "metadata": {},
   "outputs": [],
   "source": [
    "f = open(\"testero.html\", \"w\")"
   ]
  },
  {
   "cell_type": "code",
   "execution_count": 25,
   "metadata": {},
   "outputs": [
    {
     "ename": "TypeError",
     "evalue": "write() argument must be str, not HtmlElement",
     "output_type": "error",
     "traceback": [
      "\u001b[1;31m---------------------------------------------------------------------------\u001b[0m",
      "\u001b[1;31mTypeError\u001b[0m                                 Traceback (most recent call last)",
      "\u001b[1;32m<ipython-input-25-8e7b7524fcc4>\u001b[0m in \u001b[0;36m<module>\u001b[1;34m\u001b[0m\n\u001b[1;32m----> 1\u001b[1;33m \u001b[0mf\u001b[0m\u001b[1;33m.\u001b[0m\u001b[0mwrite\u001b[0m\u001b[1;33m(\u001b[0m\u001b[0mtree\u001b[0m\u001b[1;33m)\u001b[0m\u001b[1;33m\u001b[0m\u001b[1;33m\u001b[0m\u001b[0m\n\u001b[0m",
      "\u001b[1;31mTypeError\u001b[0m: write() argument must be str, not HtmlElement"
     ]
    }
   ],
   "source": [
    "f.write(tree)"
   ]
  },
  {
   "cell_type": "code",
   "execution_count": null,
   "metadata": {},
   "outputs": [],
   "source": [
    "conda update ipython"
   ]
  },
  {
   "cell_type": "code",
   "execution_count": 1,
   "metadata": {},
   "outputs": [
    {
     "name": "stdout",
     "output_type": "stream",
     "text": [
      "D:\\worksite\\PurPy\n"
     ]
    }
   ],
   "source": [
    "cd D:\\worksite\\PurPy"
   ]
  },
  {
   "cell_type": "code",
   "execution_count": 4,
   "metadata": {},
   "outputs": [],
   "source": [
    "import requests as r\n",
    "import pandas as pd\n",
    "import lxml"
   ]
  },
  {
   "cell_type": "code",
   "execution_count": 5,
   "metadata": {},
   "outputs": [],
   "source": [
    "x = 33.5025\n",
    "y = -112.3588\n",
    "base_url = 'http://forecast.weather.gov/MapClick.php?w3=sfcwind&w4=sky&'\n",
    "json = {'textField1': x,\n",
    "        'textField2': y,\n",
    "       }\n",
    "        #'w6': 'rh',\n",
    "        #'w14': 'ft20w',\n",
    "        #'AheadHour': '0',\n",
    "        #'Submit': 'Submit',\n",
    "        #'FcstType': 'digital',\n",
    "        #'site': 'psr'\n",
    "        "
   ]
  },
  {
   "cell_type": "code",
   "execution_count": 9,
   "metadata": {},
   "outputs": [
    {
     "name": "stdout",
     "output_type": "stream",
     "text": [
      "[                      0   1   2   3   4   5   6   7   8   9   ...  15  16  17  \\\n",
      "2             Hour (MST)  01  02  03  04  05  06  07  08  09  ...  15  16  17   \n",
      "3     Surface Wind (mph)   3   2   2   2   2   2   2   2   3  ...   6   6   6   \n",
      "4               Wind Dir  SW  SW  SW  SW  SW  SW  SW  SW  SW  ...  SW  SW  SW   \n",
      "6          Sky Cover (%)  86  85  83  81  78  73  67  60  55  ...  33  48  61   \n",
      "7  Relative Humidity (%)  74  74  77  82  82  85  82  82  74  ...  49  46  50   \n",
      "8        20ft Wind (mph)   2   2   2   2   2   2   2   2   2  ...   5   5   5   \n",
      "9          20ft Wind Dir  SW  SW  SW  SW  SW  SW  SW  SW  SW  ...  SW  SW  SW   \n",
      "\n",
      "   18  19  20  21   22   23  24  \n",
      "2  18  19  20  21   22   23  00  \n",
      "3   5   5   3   3    3    3   3  \n",
      "4  SW  SW  SW  SW  SSW  SSW   S  \n",
      "6  64  64  61  59   56   54  55  \n",
      "7  49  54  55  63   70   72  74  \n",
      "8   3   3   2   2    2    2   2  \n",
      "9  SW  SW  SW  SW  SSW  SSW   S  \n",
      "\n",
      "[7 rows x 25 columns],                        0   1    2    3   4   5    6   7   8   9   ...   15  \\\n",
      "12             Hour (MST)  01   02   03  04  05   06  07  08  09  ...   15   \n",
      "13     Surface Wind (mph)   5    5    5   3   3    3   3   3   3  ...    5   \n",
      "14               Wind Dir  SE  ESE  SSE  SW   W  NNE  NE  NE   E  ...  WSW   \n",
      "16          Sky Cover (%)  56   55   49  40  33   29  26  24  21  ...    4   \n",
      "17  Relative Humidity (%)  74   77   77  79  79   78  76  72  66  ...   42   \n",
      "18        20ft Wind (mph)   3    3    3   2   2    2   2   2   2  ...    3   \n",
      "19          20ft Wind Dir  SE  ESE  SSE  SW   W  NNE  NE  NE   E  ...  WSW   \n",
      "\n",
      "     16  17  18   19   20  21  22  23   24  \n",
      "12   16  17  18   19   20  21  22  23   00  \n",
      "13    5   5   5    3    3   3   3   3    3  \n",
      "14  WSW   W   W  WSW  WSW   W   W   W  WNW  \n",
      "16    3   3   2    2    3   5   9  12   14  \n",
      "17   40  40  41   43   47  50  55  59   61  \n",
      "18    3   3   3    2    2   2   2   2    2  \n",
      "19  WSW   W   W  WSW  WSW   W   W   W  WNW  \n",
      "\n",
      "[7 rows x 25 columns]]\n"
     ]
    }
   ],
   "source": [
    "\n",
    "x = \"33.5025\",\n",
    "y = \"-112.3588\",\n",
    "base_url = \"http://forecast.weather.gov/MapClick.php?\"\n",
    "\n",
    "json = {\n",
    "    \"w3\": \"sfcwind\",\n",
    "    \"w4\": \"sky\",\n",
    "    \"w6\": \"rh\",\n",
    "    \"w14\": \"ft20w\",\n",
    "    \"AheadHour\": \"0\",\n",
    "    \"Submit\": \"Submit\",\n",
    "    \"FcstType\": \"digital\",\n",
    "    \"textField1\": x,\n",
    "    \"textField2\": y,\n",
    "    \"site\": \"psr\",\n",
    "}\n",
    "\n",
    "response = r.get(base_url, json)\n",
    "data = pd.read_html(response.text)\n",
    "df = pd.DataFrame(data[7])\n",
    "getint = df.dropna(axis=0, how=\"any\", thresh=None)\n",
    "    \n",
    "split_top = getint[:7]\n",
    "split_bot = getint[7:]\n",
    "para = [split_top, split_bot]\n",
    "\n",
    "print(para)"
   ]
  },
  {
   "cell_type": "code",
   "execution_count": 10,
   "metadata": {},
   "outputs": [
    {
     "ename": "ValueError",
     "evalue": "Must pass 2-d input. shape=(2, 7, 25)",
     "output_type": "error",
     "traceback": [
      "\u001b[1;31m---------------------------------------------------------------------------\u001b[0m",
      "\u001b[1;31mValueError\u001b[0m                                Traceback (most recent call last)",
      "\u001b[1;32m~\\AppData\\Local\\Temp/ipykernel_18752/4137013627.py\u001b[0m in \u001b[0;36m<module>\u001b[1;34m\u001b[0m\n\u001b[1;32m----> 1\u001b[1;33m \u001b[0mphrase\u001b[0m \u001b[1;33m=\u001b[0m \u001b[0mpd\u001b[0m\u001b[1;33m.\u001b[0m\u001b[0mDataFrame\u001b[0m\u001b[1;33m(\u001b[0m\u001b[0mpara\u001b[0m\u001b[1;33m)\u001b[0m\u001b[1;33m\u001b[0m\u001b[1;33m\u001b[0m\u001b[0m\n\u001b[0m",
      "\u001b[1;32mD:\\mc3\\envs\\zrco\\lib\\site-packages\\pandas\\core\\frame.py\u001b[0m in \u001b[0;36m__init__\u001b[1;34m(self, data, index, columns, dtype, copy)\u001b[0m\n\u001b[0;32m    709\u001b[0m                     )\n\u001b[0;32m    710\u001b[0m                 \u001b[1;32melse\u001b[0m\u001b[1;33m:\u001b[0m\u001b[1;33m\u001b[0m\u001b[1;33m\u001b[0m\u001b[0m\n\u001b[1;32m--> 711\u001b[1;33m                     mgr = ndarray_to_mgr(\n\u001b[0m\u001b[0;32m    712\u001b[0m                         \u001b[0mdata\u001b[0m\u001b[1;33m,\u001b[0m\u001b[1;33m\u001b[0m\u001b[1;33m\u001b[0m\u001b[0m\n\u001b[0;32m    713\u001b[0m                         \u001b[0mindex\u001b[0m\u001b[1;33m,\u001b[0m\u001b[1;33m\u001b[0m\u001b[1;33m\u001b[0m\u001b[0m\n",
      "\u001b[1;32mD:\\mc3\\envs\\zrco\\lib\\site-packages\\pandas\\core\\internals\\construction.py\u001b[0m in \u001b[0;36mndarray_to_mgr\u001b[1;34m(values, index, columns, dtype, copy, typ)\u001b[0m\n\u001b[0;32m    302\u001b[0m         \u001b[1;31m# by definition an array here\u001b[0m\u001b[1;33m\u001b[0m\u001b[1;33m\u001b[0m\u001b[1;33m\u001b[0m\u001b[0m\n\u001b[0;32m    303\u001b[0m         \u001b[1;31m# the dtypes will be coerced to a single dtype\u001b[0m\u001b[1;33m\u001b[0m\u001b[1;33m\u001b[0m\u001b[1;33m\u001b[0m\u001b[0m\n\u001b[1;32m--> 304\u001b[1;33m         \u001b[0mvalues\u001b[0m \u001b[1;33m=\u001b[0m \u001b[0m_prep_ndarray\u001b[0m\u001b[1;33m(\u001b[0m\u001b[0mvalues\u001b[0m\u001b[1;33m,\u001b[0m \u001b[0mcopy\u001b[0m\u001b[1;33m=\u001b[0m\u001b[0mcopy\u001b[0m\u001b[1;33m)\u001b[0m\u001b[1;33m\u001b[0m\u001b[1;33m\u001b[0m\u001b[0m\n\u001b[0m\u001b[0;32m    305\u001b[0m \u001b[1;33m\u001b[0m\u001b[0m\n\u001b[0;32m    306\u001b[0m     \u001b[1;32mif\u001b[0m \u001b[0mdtype\u001b[0m \u001b[1;32mis\u001b[0m \u001b[1;32mnot\u001b[0m \u001b[1;32mNone\u001b[0m \u001b[1;32mand\u001b[0m \u001b[1;32mnot\u001b[0m \u001b[0mis_dtype_equal\u001b[0m\u001b[1;33m(\u001b[0m\u001b[0mvalues\u001b[0m\u001b[1;33m.\u001b[0m\u001b[0mdtype\u001b[0m\u001b[1;33m,\u001b[0m \u001b[0mdtype\u001b[0m\u001b[1;33m)\u001b[0m\u001b[1;33m:\u001b[0m\u001b[1;33m\u001b[0m\u001b[1;33m\u001b[0m\u001b[0m\n",
      "\u001b[1;32mD:\\mc3\\envs\\zrco\\lib\\site-packages\\pandas\\core\\internals\\construction.py\u001b[0m in \u001b[0;36m_prep_ndarray\u001b[1;34m(values, copy)\u001b[0m\n\u001b[0;32m    553\u001b[0m         \u001b[0mvalues\u001b[0m \u001b[1;33m=\u001b[0m \u001b[0mvalues\u001b[0m\u001b[1;33m.\u001b[0m\u001b[0mreshape\u001b[0m\u001b[1;33m(\u001b[0m\u001b[1;33m(\u001b[0m\u001b[0mvalues\u001b[0m\u001b[1;33m.\u001b[0m\u001b[0mshape\u001b[0m\u001b[1;33m[\u001b[0m\u001b[1;36m0\u001b[0m\u001b[1;33m]\u001b[0m\u001b[1;33m,\u001b[0m \u001b[1;36m1\u001b[0m\u001b[1;33m)\u001b[0m\u001b[1;33m)\u001b[0m\u001b[1;33m\u001b[0m\u001b[1;33m\u001b[0m\u001b[0m\n\u001b[0;32m    554\u001b[0m     \u001b[1;32melif\u001b[0m \u001b[0mvalues\u001b[0m\u001b[1;33m.\u001b[0m\u001b[0mndim\u001b[0m \u001b[1;33m!=\u001b[0m \u001b[1;36m2\u001b[0m\u001b[1;33m:\u001b[0m\u001b[1;33m\u001b[0m\u001b[1;33m\u001b[0m\u001b[0m\n\u001b[1;32m--> 555\u001b[1;33m         \u001b[1;32mraise\u001b[0m \u001b[0mValueError\u001b[0m\u001b[1;33m(\u001b[0m\u001b[1;34mf\"Must pass 2-d input. shape={values.shape}\"\u001b[0m\u001b[1;33m)\u001b[0m\u001b[1;33m\u001b[0m\u001b[1;33m\u001b[0m\u001b[0m\n\u001b[0m\u001b[0;32m    556\u001b[0m \u001b[1;33m\u001b[0m\u001b[0m\n\u001b[0;32m    557\u001b[0m     \u001b[1;32mreturn\u001b[0m \u001b[0mvalues\u001b[0m\u001b[1;33m\u001b[0m\u001b[1;33m\u001b[0m\u001b[0m\n",
      "\u001b[1;31mValueError\u001b[0m: Must pass 2-d input. shape=(2, 7, 25)"
     ]
    }
   ],
   "source": [
    "phrase = pd.DataFrame(para)"
   ]
  },
  {
   "cell_type": "code",
   "execution_count": null,
   "metadata": {},
   "outputs": [],
   "source": []
  }
 ],
 "metadata": {
  "interpreter": {
   "hash": "3bd3fbcc23862a08adc56c72fc25ef20064cd85c3cc82d47327b7180588ec7f6"
  },
  "kernelspec": {
   "display_name": "Python 3 (ipykernel)",
   "language": "python",
   "name": "python3"
  },
  "language_info": {
   "codemirror_mode": {
    "name": "ipython",
    "version": 3
   },
   "file_extension": ".py",
   "mimetype": "text/x-python",
   "name": "python",
   "nbconvert_exporter": "python",
   "pygments_lexer": "ipython3",
   "version": "3.9.6"
  }
 },
 "nbformat": 4,
 "nbformat_minor": 4
}
